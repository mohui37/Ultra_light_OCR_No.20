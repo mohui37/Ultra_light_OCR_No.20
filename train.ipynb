{
 "cells": [
  {
   "cell_type": "markdown",
   "metadata": {
    "collapsed": false
   },
   "source": [
    "<h1 id=\"header-ch\">轻量级文字识别技术创新大赛第20名方案</h1>\n",
    "\n",
    "\n",
    "[轻量级文本识别创新大赛](https://aistudio.baidu.com/aistudio/competition/detail/75)："
   ]
  },
  {
   "cell_type": "markdown",
   "metadata": {
    "collapsed": false
   },
   "source": [
    "# 赛题介绍\n",
    "近年来，深度学习技术在很多方向都取得了巨大的成功，尤其是计算机视觉领域，已经实现了广泛的落地和应用，但由于深度神经网络计算复杂度高，模型参数量大，限制了其在一些场景和设备上进行部署，特别是在移动嵌入式设备的部署。因此，对于模型大小的需求也变得越来越重要。\n",
    "\n",
    "OCR文本识别任务作为计算机视觉领域的核心问题之一，旨在找出图像中所有的文字信息，进而确定它们的位置和内容。由于文字有不同的外观、形状、尺度和姿态，加上成像时的光照、遮挡等因素干扰，OCR文本识别一直是计算机视觉领域极具挑战性的问题之一，但是在现实世界中又具有庞大的应用基础。\n",
    "\n",
    "本次挑战赛以 轻量级文字识别技术创新 为主题，提供大规模的中文场景文字识别数据，要求参赛选手兼顾准确率指标与模型大小，并重点考察选手的网络结构设计与训练调优能力。本次挑战赛旨在为研究者提供学术交流平台，进一步推动中文场景文字识别算法与技术的突破。\n",
    "\n"
   ]
  },
  {
   "cell_type": "markdown",
   "metadata": {
    "collapsed": false
   },
   "source": [
    "# 竞赛数据集 \n",
    "本次赛题数据集共包括12万张真实图片，其中10万张图片作为训练集，A榜，B榜各1万张图片作为测试集。 本次赛题数据集既有来自街景的图片（例如店铺标牌、地标等），也有来自文档、网图截取的图片。\n",
    "数据样例：\n",
    "\n",
    " <img src=\"https://ai-studio-static-online.cdn.bcebos.com/af7a8e7380914a29bed7df926b961d4aef83040bfa4141b09a31eb841d26b17c\" width = \"300\" height = \"30\" alt=\"\" align=center />\n",
    "\n",
    "\n",
    "<img src=\"https://ai-studio-static-online.cdn.bcebos.com/64a68bec81c94fae89695539a86b60ab4c838a478c5541c998dbbcd59c4fa976\" width = \"300\" height = \"30\" alt=\"\" align=center />\n",
    "\n",
    "\n",
    "\n",
    "<img src=\"https://ai-studio-static-online.cdn.bcebos.com/4188f091fad2483c9a5b5ae6da46004155c4d650cd4f4d6c8c00b652f3735aa7\" width = \"100\" height = \"30\" alt=\"\" align=center />\n",
    "\n",
    "\n",
    "## 数据集下载\n",
    "\n",
    "数据集从比赛链接处下载：\n",
    "\n",
    "\n",
    "<img src=\"https://ai-studio-static-online.cdn.bcebos.com/6303c3a35cc548fc9b01037fb41ef491c10c85ea62f74427ab9fb52b99b58ee1\" width = \"800\" height = \"800\" alt=\"\" align=center />\n",
    "\n",
    "\n",
    "\n",
    "数据集下载完成后，可以将数据集上传到aistudio项目中，上传后的数据集路径在/home/aistudio/data目录下。如果是直接fork的本项目，在/home/aistudio/data 目录下已经包含了下载好的训练数据和测试数据。"
   ]
  },
  {
   "cell_type": "code",
   "execution_count": 2,
   "metadata": {
    "collapsed": false
   },
   "outputs": [],
   "source": [
    "# 检查数据集所在路径\n",
    "!tree -L 3 /home/aistudio/data"
   ]
  },
  {
   "cell_type": "markdown",
   "metadata": {
    "collapsed": false
   },
   "source": [
    "# 解压数据集\n",
    "\n",
    "使用tree命令可以查看到训练集位于/home/aistudio/data 目录下，可以进入到这个目录下解压训练数据"
   ]
  },
  {
   "cell_type": "code",
   "execution_count": null,
   "metadata": {
    "collapsed": false
   },
   "outputs": [],
   "source": [
    "!cd /home/aistudio/data/data87746 && unzip   -oq 训练数据集.zip"
   ]
  },
  {
   "cell_type": "code",
   "execution_count": null,
   "metadata": {
    "collapsed": false
   },
   "outputs": [],
   "source": [
    "!cd /home/aistudio/data/data87750 && unzip -oq /home/aistudio/data/data87750/A榜测试数据集.zip"
   ]
  },
  {
   "cell_type": "markdown",
   "metadata": {
    "collapsed": false
   },
   "source": [
    "使用命令查看训练数据文件夹下数据量是否是10万张"
   ]
  },
  {
   "cell_type": "code",
   "execution_count": null,
   "metadata": {
    "collapsed": false
   },
   "outputs": [
    {
     "name": "stdout",
     "output_type": "stream",
     "text": [
      "100000\r\n"
     ]
    }
   ],
   "source": [
    "!cd ~/data/data87746/训练数据集/TrainImages  &&  ls -l | grep \"^-\" | wc -l"
   ]
  },
  {
   "cell_type": "markdown",
   "metadata": {
    "collapsed": false
   },
   "source": [
    "# 基于PaddleOCR的识别模型训练\n",
    "\n",
    "本项目基于PaddleOCR项目完成识别网络训练：\n",
    "- PaddleOCR  ([github](https://github.com/paddlepaddle/PaddleOCR.git), [gitee](https://gitee.com/paddlepaddle/PaddleOCR.git))\n",
    "- PaddlePaddle-gpu==2.0.2"
   ]
  },
  {
   "cell_type": "markdown",
   "metadata": {
    "collapsed": false
   },
   "source": [
    "## 下载PaddleOCR代码\n"
   ]
  },
  {
   "cell_type": "code",
   "execution_count": 3,
   "metadata": {
    "collapsed": false
   },
   "outputs": [
    {
     "name": "stdout",
     "output_type": "stream",
     "text": [
      "/home/aistudio/work\n",
      "fatal: destination path 'PaddleOCR' already exists and is not an empty directory.\r\n"
     ]
    }
   ],
   "source": [
    "# 进入到gitclone 的PaddleOCR目录下\n",
    "%cd ~/work/\n",
    "\n",
    "# 从gitee上下载PaddleOCR代码，也可以从GitHub链接下载\n",
    "!git clone https://gitee.com/paddlepaddle/PaddleOCR.git"
   ]
  },
  {
   "cell_type": "code",
   "execution_count": 2,
   "metadata": {
    "collapsed": false
   },
   "outputs": [
    {
     "name": "stdout",
     "output_type": "stream",
     "text": [
      "/home/aistudio/work/PaddleOCR\n"
     ]
    }
   ],
   "source": [
    "# 进入到gitclone 的PaddleOCR目录下\n",
    "%cd ~/work/PaddleOCR/"
   ]
  },
  {
   "cell_type": "code",
   "execution_count": null,
   "metadata": {
    "collapsed": false
   },
   "outputs": [],
   "source": []
  },
  {
   "cell_type": "code",
   "execution_count": 5,
   "metadata": {
    "collapsed": false
   },
   "outputs": [
    {
     "name": "stdout",
     "output_type": "stream",
     "text": [
      "/home/aistudio/work/\r\n",
      "└── PaddleOCR\r\n",
      "    ├── configs\r\n",
      "    ├── deploy\r\n",
      "    ├── doc\r\n",
      "    ├── inference\r\n",
      "    ├── __init__.py\r\n",
      "    ├── LICENSE\r\n",
      "    ├── MANIFEST.in\r\n",
      "    ├── output\r\n",
      "    ├── paddleocr.py\r\n",
      "    ├── ppocr\r\n",
      "    ├── PPOCRLabel\r\n",
      "    ├── README_ch.md\r\n",
      "    ├── README.md\r\n",
      "    ├── requirements.txt\r\n",
      "    ├── setup.py\r\n",
      "    ├── StyleText\r\n",
      "    ├── tools\r\n",
      "    └── train.sh\r\n",
      "\r\n",
      "10 directories, 9 files\r\n"
     ]
    }
   ],
   "source": [
    "# 检查源代码文件结构\n",
    "# !cd work; mkdir model\n",
    "!tree /home/aistudio/work/ -L 2"
   ]
  },
  {
   "cell_type": "markdown",
   "metadata": {
    "collapsed": false
   },
   "source": [
    "## 配置代码环境，安装相应的依赖包"
   ]
  },
  {
   "cell_type": "code",
   "execution_count": 6,
   "metadata": {
    "collapsed": false
   },
   "outputs": [
    {
     "name": "stdout",
     "output_type": "stream",
     "text": [
      "Looking in indexes: https://mirror.baidu.com/pypi/simple/\n",
      "Collecting shapely (from -r requirements.txt (line 1))\n",
      "\u001b[?25l  Downloading https://mirror.baidu.com/pypi/packages/98/f8/db4d3426a1aba9d5dfcc83ed5a3e2935d2b1deb73d350642931791a61c37/Shapely-1.7.1-cp37-cp37m-manylinux1_x86_64.whl (1.0MB)\n",
      "\u001b[K     |████████████████████████████████| 1.0MB 14.0MB/s eta 0:00:01\n",
      "\u001b[?25hCollecting scikit-image==0.17.2 (from -r requirements.txt (line 2))\n",
      "\u001b[?25l  Downloading https://mirror.baidu.com/pypi/packages/d7/ee/753ea56fda5bc2a5516a1becb631bf5ada593a2dd44f21971a13a762d4db/scikit_image-0.17.2-cp37-cp37m-manylinux1_x86_64.whl (12.5MB)\n",
      "\u001b[K     |████████████████████████████████| 12.5MB 7.5MB/s eta 0:00:011\n",
      "\u001b[?25hCollecting imgaug==0.4.0 (from -r requirements.txt (line 3))\n",
      "\u001b[?25l  Downloading https://mirror.baidu.com/pypi/packages/66/b1/af3142c4a85cba6da9f4ebb5ff4e21e2616309552caca5e8acefe9840622/imgaug-0.4.0-py2.py3-none-any.whl (948kB)\n",
      "\u001b[K     |████████████████████████████████| 952kB 34.2MB/s eta 0:00:01\n",
      "\u001b[?25hCollecting pyclipper (from -r requirements.txt (line 4))\n",
      "\u001b[?25l  Downloading https://mirror.baidu.com/pypi/packages/75/bd/1567caaa4afa6e571c60a8712434ca9a901634e75923728d0b91a2364a91/pyclipper-1.3.0-cp37-cp37m-manylinux_2_5_x86_64.manylinux1_x86_64.whl (123kB)\n",
      "\u001b[K     |████████████████████████████████| 133kB 30.6MB/s eta 0:00:01\n",
      "\u001b[?25hCollecting lmdb (from -r requirements.txt (line 5))\n",
      "\u001b[?25l  Downloading https://mirror.baidu.com/pypi/packages/2e/dd/ada2fd91cd7832979069c556607903f274470c3d3d2274e0a848908272e8/lmdb-1.2.1-cp37-cp37m-manylinux2010_x86_64.whl (299kB)\n",
      "\u001b[K     |████████████████████████████████| 307kB 22.8MB/s eta 0:00:01\n",
      "\u001b[?25hRequirement already satisfied: tqdm in /opt/conda/envs/python35-paddle120-env/lib/python3.7/site-packages (from -r requirements.txt (line 6)) (4.36.1)\n",
      "Requirement already satisfied: numpy in /opt/conda/envs/python35-paddle120-env/lib/python3.7/site-packages (from -r requirements.txt (line 7)) (1.16.4)\n",
      "Requirement already satisfied: visualdl in /opt/conda/envs/python35-paddle120-env/lib/python3.7/site-packages (from -r requirements.txt (line 8)) (2.2.0)\n",
      "Collecting python-Levenshtein (from -r requirements.txt (line 9))\n",
      "\u001b[?25l  Downloading https://mirror.baidu.com/pypi/packages/2a/dc/97f2b63ef0fa1fd78dcb7195aca577804f6b2b51e712516cc0e902a9a201/python-Levenshtein-0.12.2.tar.gz (50kB)\n",
      "\u001b[K     |████████████████████████████████| 51kB 18.8MB/s eta 0:00:01\n",
      "\u001b[?25hCollecting opencv-contrib-python==4.2.0.32 (from -r requirements.txt (line 10))\n",
      "\u001b[?25l  Downloading https://mirror.baidu.com/pypi/packages/b1/57/0b60941d55a3de6dd1b476568b858954169e54068064ead146f8f6ade1a3/opencv_contrib_python-4.2.0.32-cp37-cp37m-manylinux1_x86_64.whl (34.2MB)\n",
      "\u001b[K     |████████████████████████████████| 34.2MB 9.3MB/s eta 0:00:012\n",
      "\u001b[?25hRequirement already satisfied: pillow!=7.1.0,!=7.1.1,>=4.3.0 in /opt/conda/envs/python35-paddle120-env/lib/python3.7/site-packages (from scikit-image==0.17.2->-r requirements.txt (line 2)) (7.1.2)\n",
      "Requirement already satisfied: matplotlib!=3.0.0,>=2.0.0 in /opt/conda/envs/python35-paddle120-env/lib/python3.7/site-packages (from scikit-image==0.17.2->-r requirements.txt (line 2)) (2.2.3)\n",
      "Requirement already satisfied: imageio>=2.3.0 in /opt/conda/envs/python35-paddle120-env/lib/python3.7/site-packages (from scikit-image==0.17.2->-r requirements.txt (line 2)) (2.6.1)\n",
      "Collecting PyWavelets>=1.1.1 (from scikit-image==0.17.2->-r requirements.txt (line 2))\n",
      "\u001b[?25l  Downloading https://mirror.baidu.com/pypi/packages/62/bd/592c7242fdd1218a96431512e77265c50812315ef72570ace85e1cfae298/PyWavelets-1.1.1-cp37-cp37m-manylinux1_x86_64.whl (4.4MB)\n",
      "\u001b[K     |████████████████████████████████| 4.4MB 16.8MB/s eta 0:00:01\n",
      "\u001b[?25hRequirement already satisfied: networkx>=2.0 in /opt/conda/envs/python35-paddle120-env/lib/python3.7/site-packages (from scikit-image==0.17.2->-r requirements.txt (line 2)) (2.4)\n",
      "Requirement already satisfied: scipy>=1.0.1 in /opt/conda/envs/python35-paddle120-env/lib/python3.7/site-packages (from scikit-image==0.17.2->-r requirements.txt (line 2)) (1.3.0)\n",
      "Collecting tifffile>=2019.7.26 (from scikit-image==0.17.2->-r requirements.txt (line 2))\n",
      "\u001b[?25l  Downloading https://mirror.baidu.com/pypi/packages/4f/b5/f668516b0250f1ad1156964bd2d1c6c3aa9f0178107a43fbe3258b0d3189/tifffile-2021.7.2-py3-none-any.whl (169kB)\n",
      "\u001b[K     |████████████████████████████████| 174kB 42.0MB/s eta 0:00:01\n",
      "\u001b[?25hRequirement already satisfied: six in /opt/conda/envs/python35-paddle120-env/lib/python3.7/site-packages (from imgaug==0.4.0->-r requirements.txt (line 3)) (1.15.0)\n",
      "Requirement already satisfied: opencv-python in /opt/conda/envs/python35-paddle120-env/lib/python3.7/site-packages (from imgaug==0.4.0->-r requirements.txt (line 3)) (4.1.1.26)\n",
      "Requirement already satisfied: bce-python-sdk in /opt/conda/envs/python35-paddle120-env/lib/python3.7/site-packages (from visualdl->-r requirements.txt (line 8)) (0.8.53)\n",
      "Requirement already satisfied: pre-commit in /opt/conda/envs/python35-paddle120-env/lib/python3.7/site-packages (from visualdl->-r requirements.txt (line 8)) (1.21.0)\n",
      "Requirement already satisfied: flask>=1.1.1 in /opt/conda/envs/python35-paddle120-env/lib/python3.7/site-packages (from visualdl->-r requirements.txt (line 8)) (1.1.1)\n",
      "Requirement already satisfied: Flask-Babel>=1.0.0 in /opt/conda/envs/python35-paddle120-env/lib/python3.7/site-packages (from visualdl->-r requirements.txt (line 8)) (1.0.0)\n",
      "Requirement already satisfied: shellcheck-py in /opt/conda/envs/python35-paddle120-env/lib/python3.7/site-packages (from visualdl->-r requirements.txt (line 8)) (0.7.1.1)\n",
      "Requirement already satisfied: flake8>=3.7.9 in /opt/conda/envs/python35-paddle120-env/lib/python3.7/site-packages (from visualdl->-r requirements.txt (line 8)) (3.8.2)\n",
      "Requirement already satisfied: pandas in /opt/conda/envs/python35-paddle120-env/lib/python3.7/site-packages (from visualdl->-r requirements.txt (line 8)) (1.1.5)\n",
      "Requirement already satisfied: requests in /opt/conda/envs/python35-paddle120-env/lib/python3.7/site-packages (from visualdl->-r requirements.txt (line 8)) (2.22.0)\n",
      "Requirement already satisfied: protobuf>=3.11.0 in /opt/conda/envs/python35-paddle120-env/lib/python3.7/site-packages (from visualdl->-r requirements.txt (line 8)) (3.14.0)\n",
      "Requirement already satisfied: setuptools in /opt/conda/envs/python35-paddle120-env/lib/python3.7/site-packages (from python-Levenshtein->-r requirements.txt (line 9)) (41.4.0)\n",
      "Requirement already satisfied: python-dateutil>=2.1 in /opt/conda/envs/python35-paddle120-env/lib/python3.7/site-packages (from matplotlib!=3.0.0,>=2.0.0->scikit-image==0.17.2->-r requirements.txt (line 2)) (2.8.0)\n",
      "Requirement already satisfied: pyparsing!=2.0.4,!=2.1.2,!=2.1.6,>=2.0.1 in /opt/conda/envs/python35-paddle120-env/lib/python3.7/site-packages (from matplotlib!=3.0.0,>=2.0.0->scikit-image==0.17.2->-r requirements.txt (line 2)) (2.4.2)\n",
      "Requirement already satisfied: kiwisolver>=1.0.1 in /opt/conda/envs/python35-paddle120-env/lib/python3.7/site-packages (from matplotlib!=3.0.0,>=2.0.0->scikit-image==0.17.2->-r requirements.txt (line 2)) (1.1.0)\n",
      "Requirement already satisfied: pytz in /opt/conda/envs/python35-paddle120-env/lib/python3.7/site-packages (from matplotlib!=3.0.0,>=2.0.0->scikit-image==0.17.2->-r requirements.txt (line 2)) (2019.3)\n",
      "Requirement already satisfied: cycler>=0.10 in /opt/conda/envs/python35-paddle120-env/lib/python3.7/site-packages (from matplotlib!=3.0.0,>=2.0.0->scikit-image==0.17.2->-r requirements.txt (line 2)) (0.10.0)\n",
      "Requirement already satisfied: decorator>=4.3.0 in /opt/conda/envs/python35-paddle120-env/lib/python3.7/site-packages (from networkx>=2.0->scikit-image==0.17.2->-r requirements.txt (line 2)) (4.4.2)\n",
      "Requirement already satisfied: future>=0.6.0 in /opt/conda/envs/python35-paddle120-env/lib/python3.7/site-packages (from bce-python-sdk->visualdl->-r requirements.txt (line 8)) (0.18.0)\n",
      "Requirement already satisfied: pycryptodome>=3.8.0 in /opt/conda/envs/python35-paddle120-env/lib/python3.7/site-packages (from bce-python-sdk->visualdl->-r requirements.txt (line 8)) (3.9.9)\n",
      "Requirement already satisfied: nodeenv>=0.11.1 in /opt/conda/envs/python35-paddle120-env/lib/python3.7/site-packages (from pre-commit->visualdl->-r requirements.txt (line 8)) (1.3.4)\n",
      "Requirement already satisfied: identify>=1.0.0 in /opt/conda/envs/python35-paddle120-env/lib/python3.7/site-packages (from pre-commit->visualdl->-r requirements.txt (line 8)) (1.4.10)\n",
      "Requirement already satisfied: aspy.yaml in /opt/conda/envs/python35-paddle120-env/lib/python3.7/site-packages (from pre-commit->visualdl->-r requirements.txt (line 8)) (1.3.0)\n",
      "Requirement already satisfied: pyyaml in /opt/conda/envs/python35-paddle120-env/lib/python3.7/site-packages (from pre-commit->visualdl->-r requirements.txt (line 8)) (5.1.2)\n",
      "Requirement already satisfied: toml in /opt/conda/envs/python35-paddle120-env/lib/python3.7/site-packages (from pre-commit->visualdl->-r requirements.txt (line 8)) (0.10.0)\n",
      "Requirement already satisfied: virtualenv>=15.2 in /opt/conda/envs/python35-paddle120-env/lib/python3.7/site-packages (from pre-commit->visualdl->-r requirements.txt (line 8)) (16.7.9)\n",
      "Requirement already satisfied: cfgv>=2.0.0 in /opt/conda/envs/python35-paddle120-env/lib/python3.7/site-packages (from pre-commit->visualdl->-r requirements.txt (line 8)) (2.0.1)\n",
      "Requirement already satisfied: importlib-metadata; python_version < \"3.8\" in /opt/conda/envs/python35-paddle120-env/lib/python3.7/site-packages (from pre-commit->visualdl->-r requirements.txt (line 8)) (0.23)\n",
      "Requirement already satisfied: Jinja2>=2.10.1 in /opt/conda/envs/python35-paddle120-env/lib/python3.7/site-packages (from flask>=1.1.1->visualdl->-r requirements.txt (line 8)) (2.10.3)\n",
      "Requirement already satisfied: click>=5.1 in /opt/conda/envs/python35-paddle120-env/lib/python3.7/site-packages (from flask>=1.1.1->visualdl->-r requirements.txt (line 8)) (7.0)\n",
      "Requirement already satisfied: itsdangerous>=0.24 in /opt/conda/envs/python35-paddle120-env/lib/python3.7/site-packages (from flask>=1.1.1->visualdl->-r requirements.txt (line 8)) (1.1.0)\n",
      "Requirement already satisfied: Werkzeug>=0.15 in /opt/conda/envs/python35-paddle120-env/lib/python3.7/site-packages (from flask>=1.1.1->visualdl->-r requirements.txt (line 8)) (0.16.0)\n",
      "Requirement already satisfied: Babel>=2.3 in /opt/conda/envs/python35-paddle120-env/lib/python3.7/site-packages (from Flask-Babel>=1.0.0->visualdl->-r requirements.txt (line 8)) (2.8.0)\n",
      "Requirement already satisfied: pyflakes<2.3.0,>=2.2.0 in /opt/conda/envs/python35-paddle120-env/lib/python3.7/site-packages (from flake8>=3.7.9->visualdl->-r requirements.txt (line 8)) (2.2.0)\n",
      "Requirement already satisfied: mccabe<0.7.0,>=0.6.0 in /opt/conda/envs/python35-paddle120-env/lib/python3.7/site-packages (from flake8>=3.7.9->visualdl->-r requirements.txt (line 8)) (0.6.1)\n",
      "Requirement already satisfied: pycodestyle<2.7.0,>=2.6.0a1 in /opt/conda/envs/python35-paddle120-env/lib/python3.7/site-packages (from flake8>=3.7.9->visualdl->-r requirements.txt (line 8)) (2.6.0)\n",
      "Requirement already satisfied: urllib3!=1.25.0,!=1.25.1,<1.26,>=1.21.1 in /opt/conda/envs/python35-paddle120-env/lib/python3.7/site-packages (from requests->visualdl->-r requirements.txt (line 8)) (1.25.6)\n",
      "Requirement already satisfied: certifi>=2017.4.17 in /opt/conda/envs/python35-paddle120-env/lib/python3.7/site-packages (from requests->visualdl->-r requirements.txt (line 8)) (2019.9.11)\n",
      "Requirement already satisfied: chardet<3.1.0,>=3.0.2 in /opt/conda/envs/python35-paddle120-env/lib/python3.7/site-packages (from requests->visualdl->-r requirements.txt (line 8)) (3.0.4)\n",
      "Requirement already satisfied: idna<2.9,>=2.5 in /opt/conda/envs/python35-paddle120-env/lib/python3.7/site-packages (from requests->visualdl->-r requirements.txt (line 8)) (2.8)\n",
      "Requirement already satisfied: zipp>=0.5 in /opt/conda/envs/python35-paddle120-env/lib/python3.7/site-packages (from importlib-metadata; python_version < \"3.8\"->pre-commit->visualdl->-r requirements.txt (line 8)) (0.6.0)\n",
      "Requirement already satisfied: MarkupSafe>=0.23 in /opt/conda/envs/python35-paddle120-env/lib/python3.7/site-packages (from Jinja2>=2.10.1->flask>=1.1.1->visualdl->-r requirements.txt (line 8)) (1.1.1)\n",
      "Requirement already satisfied: more-itertools in /opt/conda/envs/python35-paddle120-env/lib/python3.7/site-packages (from zipp>=0.5->importlib-metadata; python_version < \"3.8\"->pre-commit->visualdl->-r requirements.txt (line 8)) (7.2.0)\n",
      "Building wheels for collected packages: python-Levenshtein\n",
      "  Building wheel for python-Levenshtein (setup.py) ... \u001b[?25ldone\n",
      "\u001b[?25h  Created wheel for python-Levenshtein: filename=python_Levenshtein-0.12.2-cp37-cp37m-linux_x86_64.whl size=171645 sha256=6ac99878f1d8dc56b8bcd65da002b83e89edf4ebadcd15b3b3e698f4671446f1\n",
      "  Stored in directory: /home/aistudio/.cache/pip/wheels/47/ff/78/897c6f320220948720ed35866fa98498d6cb4a33258d0fa6ac\n",
      "Successfully built python-Levenshtein\n",
      "Installing collected packages: shapely, PyWavelets, tifffile, scikit-image, imgaug, pyclipper, lmdb, python-Levenshtein, opencv-contrib-python\n",
      "Successfully installed PyWavelets-1.1.1 imgaug-0.4.0 lmdb-1.2.1 opencv-contrib-python-4.2.0.32 pyclipper-1.3.0 python-Levenshtein-0.12.2 scikit-image-0.17.2 shapely-1.7.1 tifffile-2021.7.2\n"
     ]
    }
   ],
   "source": [
    "# 安装第三方环境依赖库\n",
    "!python3.7 -m pip install -r requirements.txt\n"
   ]
  },
  {
   "cell_type": "markdown",
   "metadata": {
    "collapsed": false
   },
   "source": [
    "## 数据增强、清洗策略\n",
    "\n",
    "**ppocr现有的数据增强已经很强大了，我主要考虑的是在10万张的小样本长尾ocr训练中，rnn会对某些特定顺序的字符关联形成过拟合，**\n",
    "\n",
    "**比如训练集中有’面粉’这个标签，rnn学到前后顺序关系后，当测试集中有‘面筋’这个图片时，模型还是会预测为面粉，这里和rnn的关系应该不小**\n",
    "\n",
    "**所以我在dataloader的构建中，选择了进行在线的随机拼接同一个batch下的两个图片与label，这样可以降低小样本长尾下的rnn过拟合问题，同时可以变相地增大样本数量**\n",
    "\n",
    "**伪代码如下：**\n",
    "\n",
    "```\n",
    "img=data[i]\n",
    "label=txt[i]\n",
    "random_img=data[random(len(batchsize)]\n",
    "random_label=txt[random(len(batchsize)]\n",
    "final_img=img+random_img\n",
    "final_label=label+random_label\n",
    "```\n",
    "\n",
    "为什么说这个是小样本长尾数据集呢？\n",
    "\n",
    "我进行了数据分析\n",
    "\n",
    "一：\n",
    "\n",
    "前五万张主要为街景图片，最难训练\n",
    "\n",
    "后五万张为打印体，是好训练的，基本有90%的准确率\n",
    "\n",
    "问题在于就算同一个标签，模型学习打印体后，基本对学习街景体图片没有任何帮助，相当于我们需要重点对前五万张街景图片进行学习，\n",
    "\n",
    "当然，街景的训练集样本实际上要比五万张小得多（因为有部分街景图片其实是打印体）\n",
    "\n",
    "![](https://ai-studio-static-online.cdn.bcebos.com/e54b7d7c725540da9900cfddec490b6e5039982143304fa287f0e1c33a29ff06)\n",
    "\n",
    "\n",
    "\n",
    "二：\n",
    "\n",
    "样本分布非常不均衡，六千多个汉字标签，有近一半的标签没有训练集样本，剩下3945个的标签大多只有几个训练集样本对应，而头部的汉字标签在3000个训练集样本中都存在，加大了模型的学习难度和过拟合程度\n",
    "\n",
    "![](https://ai-studio-static-online.cdn.bcebos.com/7707dfec69a9465ba25b34b2497225d431fff94bd91a430e8a937d91a363f2ea)\n",
    "\n",
    "\n",
    "\n",
    "## 调参优化策略、模型构建思路\n",
    "\n",
    "**因为本次比赛有模型大小限制，同时不能使用额外数据训练**\n",
    "\n",
    "**我首先将mobilenetv3的scale调到1.0，这样推理的模型大小为9.3M，符合要求**\n",
    "\n",
    "**由于很多汉字存在细粒度的区别，因此我将模型中的所有ksize=5的卷积层改为ksize=3，增强模型对字体细节处的把握**"
   ]
  },
  {
   "cell_type": "markdown",
   "metadata": {
    "collapsed": false
   },
   "source": [
    "## 设置配置文件，完成识别算法训练\n",
    "\n",
    "PaddleOCR 通过yml配置文件的方式选择不同的算法和训练参数等，这里我们使用`configs/rec/ch_ppocr_v2.0/rec_chinese_lite_train_v2.0_2_cutout_suijipinjie_ksize=3.yml`配置文件完成识别算法训练；\n",
    "\n",
    "从该配置文件中，我们可以得到如下信息：\n",
    "```\n",
    "Architecture:\n",
    "  model_type: rec\n",
    "  algorithm: CRNN\n",
    "  Transform:\n",
    "  Backbone:\n",
    "    name: MobileNetV3\n",
    "    scale: 1.0\n",
    "    model_name: small\n",
    "    small_stride: [1, 2, 2, 2]\n",
    "  Neck:\n",
    "    name: SequenceEncoder\n",
    "    encoder_type: rnn\n",
    "    hidden_size: 48\n",
    "  Head:\n",
    "    name: CTCHead\n",
    "    fc_decay: 0.00001\n",
    "\n",
    "Loss:\n",
    "  name: CTCLoss\n",
    "```\n",
    "\n",
    "表示我们使用的是CRNN算法，backbone是MobileNetV3，损失函数是CTCLoss。我们也可以在配置文件中设置训练数据和测试数据的路径，\n",
    "\n",
    "`vim configs/rec/ch_ppocr_v2.0/rec_chinese_lite_train_v2.0_2_cutout_suijipinjie_ksize=3.yml`  \n",
    "\n",
    "对于其中的`Train.data_dir, Train.label_file_list, Eval.data_dir, Eval.label_file_list`字段需要用户手动配置相关路径，\n",
    "\n",
    "本项目中路径如下所示：\n",
    "```\n",
    "Train:\n",
    "  dataset:\n",
    "    name: SimpleDataSet\n",
    "    data_dir: ../data/训练数据集/TrainImages\n",
    "    label_file_list: [../data/训练数据集/LabelTrain.txt]\n",
    "...\n",
    "...\n",
    "\n",
    "Eval:\n",
    "  dataset:\n",
    "    name: SimpleDataSet\n",
    "    data_dir: ../data/训练数据集/TrainImages\n",
    "    label_file_list: [../data/训练数据集/LabelTrain.txt]\n",
    "```\n",
    "\n",
    "另外，本实验测试集reader部分也是使用训练集数据和标签，\n",
    "```\n",
    "开发者们在做实验时，可以把训练数据拆分为训练集和测试集。\n",
    "\n",
    "\n",
    "\n",
    "由于aistuido的共享内存有限，可能无法很好支持多线程的任务，所以需要将以下字段改成0\n",
    "```\n",
    "Train.loader.num_workers: 0\n",
    "Eval.loader.num_workers: 0\n",
    "```\n",
    "\n",
    "\n",
    "\n",
    "关于yml的更多细节，可以参考[PaddleOCR](https://github.com/PaddlePaddle/PaddleOCR/blob/release/2.1/doc/doc_ch/config.md)\n"
   ]
  },
  {
   "cell_type": "markdown",
   "metadata": {
    "collapsed": false
   },
   "source": [
    "## 训练脚本\n",
    "\n",
    "本代码会训练一个模型，并且保存到Global.save_model_dir中，本实验中，训练日志默认保存到文件`output/rec_chinese_lite_train_v2.0_2_cutout_suijipinjie_ksize3/train.log`   \n",
    "\n",
    "### 样例\n",
    "`python3.7 tools/train.py -c configs/rec/ch_ppocr_v2.0/rec_chinese_lite_train_v2.0_2_cutout_suijipinjie_ksize=3.yml`\n",
    "\n",
    "### 你将会看到类似如下的训练日志\n",
    "```\n",
    "[2021/04/26 10:36:33] root INFO: epoch: [1/500], iter: 10, lr: 0.001000, loss: 613.061096, acc: 0.000000, norm_edit_dis: 0.000000, reader_cost: 0.66709 s, batch_cost: 2.06338 s, samples: 2816, ips: 136.47522\n",
    "[2021/04/26 10:36:57] root INFO: epoch: [1/500], iter: 20, lr: 0.001000, loss: 491.068024, acc: 0.000000, norm_edit_dis: 0.000000, reader_cost: 0.35644 s, batch_cost: 1.61927 s, samples: 2560, ips: 158.09585\n",
    "[2021/04/26 10:37:22] root INFO: epoch: [1/500], iter: 30, lr: 0.001000, loss: 247.841064, acc: 0.000000, norm_edit_dis: 0.000000, reader_cost: 0.43335 s, batch_cost: 1.69419 s, samples: 2560, ips: 151.10485\n",
    "[2021/04/26 10:37:48] root INFO: epoch: [1/500], iter: 40, lr: 0.001000, loss: 83.803581, acc: 0.000000, norm_edit_dis: 0.000000, reader_cost: 0.52566 s, batch_cost: 1.78657 s, samples: 2560, ips: 143.29120\n",
    "```\n",
    "\n",
    "#### 注意事项\n",
    "请使用<span style='color:red'>GPU版本</span>的配置环境运行本模块"
   ]
  },
  {
   "cell_type": "code",
   "execution_count": 11,
   "metadata": {
    "collapsed": false
   },
   "outputs": [
    {
     "name": "stdout",
     "output_type": "stream",
     "text": [
      "/opt/conda/envs/python35-paddle120-env/lib/python3.7/site-packages/setuptools/depends.py:2: DeprecationWarning: the imp module is deprecated in favour of importlib; see the module's documentation for alternative uses\n",
      "  import imp\n",
      "Config use_gpu cannot be set as true while you are using paddlepaddle cpu version ! \n",
      "Please try: \n",
      "\t1. Install paddlepaddle-gpu to run model on GPU \n",
      "\t2. Set use_gpu as false in config file to run model on CPU\n"
     ]
    }
   ],
   "source": [
    "!python3.7 tools/train.py -c configs/rec/ch_ppocr_v2.0/rec_chinese_lite_train_v2.0_2_cutout_suijipinjie_ksize=3.yml"
   ]
  },
  {
   "cell_type": "markdown",
   "metadata": {
    "collapsed": false
   },
   "source": [
    "## 预测脚本\n",
    "本代码会预测训练好的模型，并将结果保存成txt格式，可以直接送到比赛提交入口测评，文件默认保存在`output/rec/rec_chinese_lite_train_v2.0_2_cutout_suijipinjie_ksize3.txt` \n",
    "\n",
    "#### 样例\n",
    "`python3.7 tools/infer_rec.py -c configs/rec/ch_ppocr_v2.0/rec_chinese_lite_train_v2.0_2_cutout_suijipinjie_ksize=3.yml -o Global.infer_img=\"../data/A榜测试数据集/TestAImages\" Global.pretrained_model=\"./output/rec_chinese_lite_v2.0_1.0_cutout_suijipinjie_ksize3_test/best_accuracy\"`\n",
    "\n",
    "#### 你将会看到类似如下的测试日志\n",
    "```\n",
    "[2021/04/26 11:46:52] root INFO:         result: ('搜狐新闻', 0.98105836)\n",
    "[2021/04/26 11:46:52] root INFO: infer_img: /home/aistudio/data/data85300/ocr_competition_dataset/TestAImages/TestA_009996.jpg\n",
    "[2021/04/26 11:46:52] root INFO:         result: ('单价', 0.999772)\n",
    "[2021/04/26 11:46:52] root INFO: infer_img: /home/aistudio/data/data85300/ocr_competition_dataset/TestAImages/TestA_009997.jpg\n",
    "[2021/04/26 11:46:52] root INFO:         result: ('S', 0.45008183)\n",
    "[2021/04/26 11:46:52] root INFO: infer_img: /home/aistudio/data/data85300/ocr_competition_dataset/TestAImages/TestA_009998.jpg\n",
    "[2021/04/26 11:46:52] root INFO:         result: ('道具', 0.9936695)\n",
    "[2021/04/26 11:46:52] root INFO: infer_img: /home/aistudio/data/data85300/ocr_competition_dataset/TestAImages/TestA_009999.jpg\n",
    "[2021/04/26 11:46:52] root INFO:         result: ('28天', 0.9987741)\n",
    "[2021/04/26 11:46:52] root INFO: success!\n",
    "```\n",
    "#### 注意事项\n",
    "请使用<span style='color:red'>GPU版本</span>的配置环境运行本模块"
   ]
  },
  {
   "cell_type": "markdown",
   "metadata": {
    "collapsed": false
   },
   "source": [
    "## bestmodel目录下为我提交B榜时的模型权重，若要生成B榜结果，在下面的代码中，将infer_img设置为'../B榜测试数据集/TestBImages'，将model路径改为'./bestmodel/best_accuracy'， 即可"
   ]
  },
  {
   "cell_type": "code",
   "execution_count": 1,
   "metadata": {
    "collapsed": false
   },
   "outputs": [
    {
     "name": "stdout",
     "output_type": "stream",
     "text": [
      "python3: can't open file 'tools/infer_rec.py': [Errno 2] No such file or directory\r\n"
     ]
    }
   ],
   "source": [
    "!python3 tools/infer_rec.py -c configs/rec/ch_ppocr_v2.0/rec_chinese_lite_train_v2.0_2_cutout_suijipinjie_ksize=3.yml -o Global.infer_img=\"../data/A榜测试数据集/TestAImages\"  Global.pretrained_model=\"./output/rec_chinese_lite_cutout_suijipinjie_ksize3_test/best_accuracy\""
   ]
  },
  {
   "cell_type": "markdown",
   "metadata": {
    "collapsed": false
   },
   "source": [
    "## 基于预测引擎的预测\n",
    "\n",
    "\n",
    "OCR比赛中有一个限制是：\n",
    "```\n",
    "约束性条件1：模型总大小不超过10MB（以.pdmodel和.pdiparams文件非压缩状态磁盘占用空间之和为准）；\n",
    "```\n",
    "\n",
    "按照上述训练方式保存的模型格式如下，\n",
    "```\n",
    "iter_epoch_60.pdopt     # 优化器相关参数\n",
    "iter_epoch_60.states    # 记录训练指标等数据\n",
    "iter_epoch_60.pdparams  # 模型参数\n",
    "```\n",
    "\n",
    "训练过程中保存的模型是checkpoints模型，保存的只有模型的参数，多用于恢复训练等。实际上，此处的约束条件限制的是inference 模型的大小。inference 模型一般是模型训练，把模型结构和模型参数保存在文件中的固化模型，多用于预测部署场景。与checkpoints模型相比，inference 模型会额外保存模型的结构信息，在预测部署、加速推理上性能优越，灵活方便，适合于实际系统集成，模型大小也会小一些。\n",
    "\n",
    "下面介绍如何将训练的checkpoints模型保存为inference模型，以iter_epoch_60 checkpoints模型为例，仅需要一行命令即可转换为inference模型格式。\n"
   ]
  },
  {
   "cell_type": "markdown",
   "metadata": {
    "collapsed": false
   },
   "source": [
    "## bestmodel_infer目录下为我提交B榜时的inference 模型，可供测试大小\n",
    "\n",
    "## 若要重新生成inference 模型，可以使用下面的代码，自行修改权重路径和保存路径"
   ]
  },
  {
   "cell_type": "code",
   "execution_count": 3,
   "metadata": {
    "collapsed": false
   },
   "outputs": [
    {
     "name": "stdout",
     "output_type": "stream",
     "text": [
      "/home/aistudio/work/PaddleOCR\n",
      "/opt/conda/envs/python35-paddle120-env/lib/python3.7/site-packages/setuptools/depends.py:2: DeprecationWarning: the imp module is deprecated in favour of importlib; see the module's documentation for alternative uses\n",
      "  import imp\n",
      "[2021/07/09 10:06:50] root INFO: load pretrained model from ['./bestmodel/best_accuracy']\n",
      "[2021/07/09 10:06:52] root INFO: inference model is saved to ./inference/rec_inference_lite_cutout_suijipinjie_ksize3_test//inference\n"
     ]
    }
   ],
   "source": [
    "%cd ~/work/PaddleOCR/\n",
    "!python3.7 tools/export_model.py -c configs/rec/ch_ppocr_v2.0/rec_chinese_lite_train_v2.0_2_cutout_suijipinjie_ksize=3.yml -o Global.pretrained_model=./bestmodel/best_accuracy  Global.save_inference_dir=./inference/rec_inference_lite_cutout_suijipinjie_ksize3_test/"
   ]
  },
  {
   "cell_type": "markdown",
   "metadata": {
    "collapsed": false
   },
   "source": [
    "inference模型保存在`./inference/rec_inference/`文件夹，通过修改Global.save_inference_dir可以调整inference模型保存的路径，另外，可使用du命令查看导出的inference模型大小。"
   ]
  },
  {
   "cell_type": "code",
   "execution_count": 4,
   "metadata": {
    "collapsed": false
   },
   "outputs": [
    {
     "name": "stdout",
     "output_type": "stream",
     "text": [
      "8.0M\t./inference/rec_inference_lite_cutout_suijipinjie_ksize3_test/\r\n"
     ]
    }
   ],
   "source": [
    "!du -sh ./inference/rec_inference_lite_cutout_suijipinjie_ksize3_test/"
   ]
  },
  {
   "cell_type": "markdown",
   "metadata": {
    "collapsed": false
   },
   "source": [
    "可以看到，当前训练使用的CRNN算法导出inference后，仅有8.0M。\n",
    "\n",
    "导出的inference模型也可以用来预测，预测逻辑如下代码所示。"
   ]
  },
  {
   "cell_type": "code",
   "execution_count": null,
   "metadata": {
    "collapsed": false
   },
   "outputs": [
    {
     "name": "stdout",
     "output_type": "stream",
     "text": [
      "/opt/conda/envs/python35-paddle120-env/lib/python3.7/site-packages/paddle/fluid/layers/utils.py:26: DeprecationWarning: `np.int` is a deprecated alias for the builtin `int`. To silence this warning, use `int` by itself. Doing this will not modify any behavior and is safe. When replacing `np.int`, you may wish to use e.g. `np.int64` or `np.int32` to specify the precision. If you wish to review your current use, check the release note link for additional information.\n",
      "Deprecated in NumPy 1.20; for more details and guidance: https://numpy.org/devdocs/release/1.20.0-notes.html#deprecations\n",
      "  def convert_to_list(value, n, name, dtype=np.int):\n",
      "/opt/conda/envs/python35-paddle120-env/lib/python3.7/site-packages/skimage/morphology/_skeletonize.py:241: DeprecationWarning: `np.bool` is a deprecated alias for the builtin `bool`. To silence this warning, use `bool` by itself. Doing this will not modify any behavior and is safe. If you specifically wanted the numpy scalar type, use `np.bool_` here.\n",
      "Deprecated in NumPy 1.20; for more details and guidance: https://numpy.org/devdocs/release/1.20.0-notes.html#deprecations\n",
      "  0, 1, 1, 0, 0, 1, 0, 0, 0], dtype=np.bool)\n",
      "/opt/conda/envs/python35-paddle120-env/lib/python3.7/site-packages/skimage/morphology/_skeletonize.py:256: DeprecationWarning: `np.bool` is a deprecated alias for the builtin `bool`. To silence this warning, use `bool` by itself. Doing this will not modify any behavior and is safe. If you specifically wanted the numpy scalar type, use `np.bool_` here.\n",
      "Deprecated in NumPy 1.20; for more details and guidance: https://numpy.org/devdocs/release/1.20.0-notes.html#deprecations\n",
      "  0, 0, 0, 0, 0, 0, 0, 0, 0], dtype=np.bool)\n",
      "/opt/conda/envs/python35-paddle120-env/lib/python3.7/site-packages/numpy/core/fromnumeric.py:3420: RuntimeWarning: Mean of empty slice.\n",
      "  out=out, **kwargs)\n",
      "/opt/conda/envs/python35-paddle120-env/lib/python3.7/site-packages/numpy/core/_methods.py:188: RuntimeWarning: invalid value encountered in double_scalars\n",
      "  ret = ret.dtype.type(ret / rcount)\n",
      "[2021/06/09 19:06:51] root INFO: Predicts of ./doc/imgs_words/ch/word_1.jpg:('', nan)\n",
      "[2021/06/09 19:06:51] root INFO: Predicts of ./doc/imgs_words/ch/word_2.jpg:('', nan)\n",
      "[2021/06/09 19:06:51] root INFO: Predicts of ./doc/imgs_words/ch/word_3.jpg:('', nan)\n",
      "[2021/06/09 19:06:51] root INFO: Predicts of ./doc/imgs_words/ch/word_4.jpg:('', nan)\n",
      "[2021/06/09 19:06:51] root INFO: Predicts of ./doc/imgs_words/ch/word_5.jpg:('', nan)\n",
      "[2021/06/09 19:06:51] root INFO: Total predict time for 5 images, cost: 1.843\n"
     ]
    }
   ],
   "source": [
    "!python3.7 tools/infer/predict_rec.py  --rec_model_dir=./inference/rec_inference_lite_cutout_suijipinjie_ksize3_test/  --image_dir=./doc/imgs_words/ch/"
   ]
  },
  {
   "cell_type": "code",
   "execution_count": null,
   "metadata": {
    "collapsed": false
   },
   "outputs": [],
   "source": []
  },
  {
   "cell_type": "code",
   "execution_count": null,
   "metadata": {
    "collapsed": false
   },
   "outputs": [],
   "source": []
  },
  {
   "cell_type": "markdown",
   "metadata": {
    "collapsed": false
   },
   "source": []
  }
 ],
 "metadata": {
  "kernelspec": {
   "display_name": "PaddlePaddle 2.0.0b0 (Python 3.5)",
   "language": "python",
   "name": "py35-paddle1.2.0"
  },
  "language_info": {
   "codemirror_mode": {
    "name": "ipython",
    "version": 3
   },
   "file_extension": ".py",
   "mimetype": "text/x-python",
   "name": "python",
   "nbconvert_exporter": "python",
   "pygments_lexer": "ipython3",
   "version": "3.7.4"
  }
 },
 "nbformat": 4,
 "nbformat_minor": 1
}
